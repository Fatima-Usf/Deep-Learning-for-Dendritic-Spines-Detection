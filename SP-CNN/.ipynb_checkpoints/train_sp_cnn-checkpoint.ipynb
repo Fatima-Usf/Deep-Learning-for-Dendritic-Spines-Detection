{
 "cells": [
  {
   "cell_type": "markdown",
   "metadata": {},
   "source": [
    "## Importing packages"
   ]
  },
  {
   "cell_type": "code",
   "execution_count": 53,
   "metadata": {},
   "outputs": [
    {
     "name": "stderr",
     "output_type": "stream",
     "text": [
      "Using TensorFlow backend.\n"
     ]
    }
   ],
   "source": [
    "import tensorflow as tf\n",
    "from tensorflow import keras \n",
    "from tensorflow.keras import layers\n",
    "import keras.backend as K\n",
    "import cv2\n",
    "import matplotlib.pyplot as plt\n",
    "import pandas as pd\n",
    "import numpy as np\n",
    "import sys\n",
    "%matplotlib inline\n",
    "tf.keras.backend.clear_session()"
   ]
  },
  {
   "cell_type": "code",
   "execution_count": null,
   "metadata": {
    "collapsed": true
   },
   "outputs": [],
   "source": [
    "# S (n, 20, 20, 1)\n",
    "# normalize data"
   ]
  },
  {
   "cell_type": "markdown",
   "metadata": {},
   "source": [
    "## Loading data"
   ]
  },
  {
   "cell_type": "code",
   "execution_count": 45,
   "metadata": {
    "scrolled": false
   },
   "outputs": [],
   "source": [
    "def load_data(input_shape):\n",
    "    input_dim = input_shape\n",
    "    train_labels = pd.read_csv(\"train_labels.csv\")\n",
    "    test_labels = pd.read_csv(\"test_labels.csv\")\n",
    "    x_train, y_train, x_test, y_test = [], [], [], []\n",
    "    # max = 244 and min = 128\n",
    "    #x_center = xmin + 7\n",
    "    previous_name = \"\"\n",
    "    y_temp = np.zeros((1, 1))\n",
    "\n",
    "    for index, row in train_labels.iterrows():\n",
    "        current_name = row[\"filename\"]\n",
    "        x_center, y_center = (row[\"xmin\"] + 7)/row[\"width\"], (row[\"ymin\"] + 7)/row[\"height\"]\n",
    "        x_center, y_center =  int(input_dim[0]* x_center),  int(input_dim[0]* y_center)\n",
    "    \n",
    "        if current_name is not previous_name:\n",
    "        \n",
    "            if y_temp.shape[0] == input_dim[0]:\n",
    "                y_train.append(y_temp)\n",
    "            y_temp = np.zeros(input_dim)    \n",
    "            img =cv2.resize(cv2.imread(\"train/\"+current_name, 0),input_dim[:2])\n",
    "            img = np.expand_dims(img, axis = -1)\n",
    "            x_train.append(img)\n",
    "            previous_name = current_name\n",
    "        \n",
    "        y_temp[y_center - 3: y_center +3 , x_center - 3: x_center +3, :] = 1\n",
    "    y_train.append(y_temp)\n",
    "    x_train = np.array(x_train)\n",
    "    y_train = np.array(y_train)\n",
    "    \n",
    "    previous_name = \"\"\n",
    "    y_temp = np.zeros((1, 1))\n",
    "\n",
    "    for index, row in test_labels.iterrows():\n",
    "        current_name = row[\"filename\"]\n",
    "        x_center, y_center = (row[\"xmin\"] + 7)/row[\"width\"], (row[\"ymin\"] + 7)/row[\"height\"]\n",
    "        x_center, y_center =  int(input_dim[0]* x_center),  int(input_dim[0]* y_center)\n",
    "    \n",
    "        if current_name is not previous_name:\n",
    "        \n",
    "            if y_temp.shape[0] == input_dim[0]:\n",
    "                y_test.append(y_temp)\n",
    "            y_temp = np.zeros(input_dim)    \n",
    "            img =  cv2.resize(cv2.imread(\"test/\"+current_name, 0), input_dim[:2])\n",
    "            img = np.expand_dims(img, axis = -1)\n",
    "            x_test.append(img)\n",
    "            previous_name = current_name\n",
    "        \n",
    "        y_temp[y_center - 3: y_center +3 , x_center - 3: x_center +3, :] = 1\n",
    "    y_test.append(y_temp)\n",
    "    x_test = np.array(x_test)\n",
    "    y_test = np.array(y_test)\n",
    "    assert(x_train.shape == (1653, input_dim[0],input_dim[1], input_dim[2]))\n",
    "    assert(x_test.shape == (183, input_dim[0],input_dim[1], input_dim[2] ))\n",
    "    assert(y_train.shape == (1653, input_dim[0],input_dim[1], input_dim[2] ))\n",
    "    assert(y_test.shape == (183, input_dim[0],input_dim[1], input_dim[2] ))\n",
    "    print(\"x_train shape: \", x_train.shape)\n",
    "    print(\"y_train shape: \", y_train.shape)\n",
    "    print(\"x_test shape: \", x_test.shape)\n",
    "    print(\"y_test shape: \", y_test.shape)\n",
    "\n",
    "    return x_train, y_train, x_test, y_test\n",
    "\n",
    "\n"
   ]
  },
  {
   "cell_type": "code",
   "execution_count": 46,
   "metadata": {},
   "outputs": [
    {
     "name": "stdout",
     "output_type": "stream",
     "text": [
      "x_train shape:  (1653, 256, 256, 1)\n",
      "y_train shape:  (1653, 256, 256, 1)\n",
      "x_test shape:  (183, 256, 256, 1)\n",
      "y_test shape:  (183, 256, 256, 1)\n"
     ]
    }
   ],
   "source": [
    "x_train, y_train, x_test, y_test = load_data(input_shape = (256, 256, 1))"
   ]
  },
  {
   "cell_type": "markdown",
   "metadata": {},
   "source": [
    "## finding Best parameters for Canny edge detector"
   ]
  },
  {
   "cell_type": "code",
   "execution_count": 50,
   "metadata": {},
   "outputs": [
    {
     "data": {
      "image/png": "[encoded data removed]",
      "text/plain": [
       "<Figure size 720x1440 with 2 Axes>"
      ]
     },
     "metadata": {},
     "output_type": "display_data"
    },
    {
     "ename": "KeyboardInterrupt",
     "evalue": "",
     "output_type": "error",
     "traceback": [
      "\u001b[1;31m---------------------------------------------------------------------------\u001b[0m",
      "\u001b[1;31mKeyboardInterrupt\u001b[0m                         Traceback (most recent call last)",
      "\u001b[1;32m<ipython-input-50-3a6fef689c43>\u001b[0m in \u001b[0;36m<module>\u001b[1;34m()\u001b[0m\n\u001b[0;32m     55\u001b[0m         \u001b[0mcv2\u001b[0m\u001b[1;33m.\u001b[0m\u001b[0mmoveWindow\u001b[0m\u001b[1;33m(\u001b[0m\u001b[0mstr\u001b[0m\u001b[1;33m(\u001b[0m\u001b[0ms\u001b[0m\u001b[1;33m)\u001b[0m \u001b[1;33m+\u001b[0m \u001b[1;34m\" from 85 \"\u001b[0m\u001b[1;33m+\u001b[0m\u001b[0mtitle\u001b[0m\u001b[1;33m,\u001b[0m \u001b[1;36m10\u001b[0m\u001b[1;33m,\u001b[0m\u001b[1;36m10\u001b[0m\u001b[1;33m)\u001b[0m\u001b[1;33m\u001b[0m\u001b[0m\n\u001b[0;32m     56\u001b[0m         \u001b[0mcv2\u001b[0m\u001b[1;33m.\u001b[0m\u001b[0mimshow\u001b[0m\u001b[1;33m(\u001b[0m\u001b[0mstr\u001b[0m\u001b[1;33m(\u001b[0m\u001b[0ms\u001b[0m\u001b[1;33m)\u001b[0m \u001b[1;33m+\u001b[0m \u001b[1;34m\" from 85 \"\u001b[0m\u001b[1;33m+\u001b[0m\u001b[0mtitle\u001b[0m\u001b[1;33m,\u001b[0m\u001b[0mresult\u001b[0m\u001b[1;33m)\u001b[0m\u001b[1;33m\u001b[0m\u001b[0m\n\u001b[1;32m---> 57\u001b[1;33m         \u001b[0mcv2\u001b[0m\u001b[1;33m.\u001b[0m\u001b[0mwaitKey\u001b[0m\u001b[1;33m(\u001b[0m\u001b[1;36m0\u001b[0m\u001b[1;33m)\u001b[0m\u001b[1;33m\u001b[0m\u001b[0m\n\u001b[0m\u001b[0;32m     58\u001b[0m         \u001b[0mcv2\u001b[0m\u001b[1;33m.\u001b[0m\u001b[0mdestroyAllWindows\u001b[0m\u001b[1;33m(\u001b[0m\u001b[1;33m)\u001b[0m\u001b[1;33m\u001b[0m\u001b[0m\n\u001b[0;32m     59\u001b[0m         \u001b[0ms\u001b[0m \u001b[1;33m=\u001b[0m \u001b[0ms\u001b[0m \u001b[1;33m+\u001b[0m\u001b[1;36m1\u001b[0m\u001b[1;33m\u001b[0m\u001b[0m\n",
      "\u001b[1;31mKeyboardInterrupt\u001b[0m: "
     ]
    }
   ],
   "source": [
    "img = x_train[100, :, :,0]\n",
    "label_train = y_train[100 , :, :, 0]\n",
    "img_filtered = cv2.bilateralFilter(img, 11, 150, 150)\n",
    "threshholds = list(range(0, 251, 5))\n",
    "\n",
    "plt.figure(figsize= (10, 20))\n",
    "plt.subplot(121)\n",
    "plt.imshow(img,cmap = 'gray')\n",
    "plt.title('Original Image')\n",
    "plt.subplot(122)\n",
    "imgplot2 = plt.imshow(label_train, cmap='gray')\n",
    "plt.title('Ground truth dendritic spines')\n",
    "plt.show()\n",
    "\n",
    "edges_2 = cv2.Canny(img_filtered, 10, 25, L2gradient = True)\n",
    "row = 0\n",
    "col = 0\n",
    "s = 1\n",
    "title = \"\"\n",
    "i = 0\n",
    "while i < len(threshholds) - 1:\n",
    "    j = i + 1\n",
    "    while j < len(threshholds):\n",
    "        if col == 0 and row != 3:\n",
    "            edges_1 = cv2.Canny(img_filtered,threshholds[i] ,threshholds[j], L2gradient = True)\n",
    "            col = col + 1\n",
    "            title = title + \" | \" + str(threshholds[i]) + \" \" + str(threshholds[j])\n",
    "            j = j + 1\n",
    "            continue\n",
    "        \n",
    "        elif col < 5 and row != 3:\n",
    "            edges_row = cv2.hconcat((edges_1, cv2.Canny(img_filtered,threshholds[i] ,threshholds[j], L2gradient = True)))\n",
    "            edges_1 = edges_row\n",
    "            col = col + 1\n",
    "            title = title + \" | \" + str(threshholds[i]) + \" \" + str(threshholds[j])\n",
    "            j = j + 1\n",
    "            continue\n",
    "        col = 0\n",
    "        if row ==0:\n",
    "            edges_row1 = edges_row\n",
    "            edges_1 = cv2.Canny(img_filtered,threshholds[i] ,threshholds[j], L2gradient = True)\n",
    "            col = col + 1\n",
    "            row = row + 1\n",
    "            title = title + \" | \" + str(threshholds[i]) + \" \" + str(threshholds[j])\n",
    "            j = j + 1\n",
    "            continue\n",
    "        elif row < 3:\n",
    "            result = cv2.vconcat((edges_row1, edges_row))\n",
    "            edges_row1 = result\n",
    "            row = row + 1\n",
    "            continue\n",
    "        col = 0\n",
    "        row = 0 \n",
    "        cv2.namedWindow(str(s) + \" from 85 \"+title)        \n",
    "        cv2.moveWindow(str(s) + \" from 85 \"+title, 10,10)\n",
    "        cv2.imshow(str(s) + \" from 85 \"+title,result)\n",
    "        cv2.waitKey(0)\n",
    "        cv2.destroyAllWindows()\n",
    "        s = s +1\n",
    "        title = \"\"\n",
    "    i = i + 1\n",
    "if title != \"\":\n",
    "    cv2.namedWindow(str(s) + \" from 85 \"+title)        \n",
    "    cv2.moveWindow(str(s) + \" from 85 \"+title, 35,20)\n",
    "    cv2.imshow(str(s) + \" from 85 \"+title,cv2.vconcat((edges_row1, edges_row)))\n",
    "    cv2.waitKey(0)\n",
    "    cv2.destroyAllWindows()"
   ]
  },
  {
   "cell_type": "markdown",
   "metadata": {},
   "source": [
    "## Creating edges dataset using min and max thresholds = (15, 30)"
   ]
  },
  {
   "cell_type": "code",
   "execution_count": 51,
   "metadata": {},
   "outputs": [],
   "source": [
    "def generate_edges_dataset(x_train, minthresh = 15, maxthresh = 30):\n",
    "    \n",
    "    x_train_edges = []\n",
    "    for i in range(x_train.shape[0]):\n",
    "        img = x_train[i, :, :, 0]\n",
    "        img_filtered = cv2.bilateralFilter(img, 11, 150, 150)\n",
    "        img_edges = cv2.Canny(img_filtered, minthresh, maxthresh, L2gradient = True)\n",
    "        img_edges = np.expand_dims(img_edges, axis = -1)\n",
    "        x_train_edges.append(img_edges)\n",
    "    x_train_edges = np.array(x_train_edges)\n",
    "    assert(x_train_edges.shape == x_train.shape)\n",
    "    print(x_train_edges.shape)\n",
    "    \n",
    "    return x_train_edges"
   ]
  },
  {
   "cell_type": "code",
   "execution_count": 52,
   "metadata": {},
   "outputs": [
    {
     "name": "stdout",
     "output_type": "stream",
     "text": [
      "(1653, 256, 256, 1)\n"
     ]
    }
   ],
   "source": [
    "x_train_edges = generate_edges_dataset(x_train)"
   ]
  },
  {
   "cell_type": "code",
   "execution_count": 21,
   "metadata": {
    "collapsed": true
   },
   "outputs": [],
   "source": [
    "def prior_info_loss(y_true, y_pred):\n",
    "    # TODO: implement the regulizer\n",
    "    # use the edges and S as global variable. find the final sum SUM and substract it from the the below loss\n",
    "    # to find sum apply on y_pred: threshold, windowmax, guassian filter\n",
    "    return K.mean(K.square(y_pred - y_true), axis=-1)"
   ]
  },
  {
   "cell_type": "code",
   "execution_count": null,
   "metadata": {
    "collapsed": true
   },
   "outputs": [],
   "source": [
    "# TODO: custom metric F1 score\n",
    "def custom_F1(y_true, y_pred):\n",
    "    return K.mean(y_pred)"
   ]
  },
  {
   "cell_type": "code",
   "execution_count": null,
   "metadata": {
    "collapsed": true
   },
   "outputs": [],
   "source": [
    "img_inputs = keras.Input(shape=(256, 256, 1))\n",
    "x = layers.Conv2D(64, (5, 5),padding = 'same', activation='relu')(img_inputs)\n",
    "x = layers.Conv2D(64, (3, 3),padding = 'same', activation='relu')(x)\n",
    "x = layers.Conv2D(64, (3, 3),padding = 'same', activation='relu')(x)\n",
    "x = layers.Conv2D(64, (3, 3),padding = 'same', activation='relu')(x)\n",
    "x = layers.Conv2D(64, (3, 3),padding = 'same', activation='relu')(x)\n",
    "y_hat = layers.Conv2D(1, (3, 3),padding = 'same')(x)\n"
   ]
  },
  {
   "cell_type": "code",
   "execution_count": null,
   "metadata": {
    "collapsed": true
   },
   "outputs": [],
   "source": [
    "model = keras.Model(inputs=img_inputs, outputs=outputs)"
   ]
  },
  {
   "cell_type": "code",
   "execution_count": null,
   "metadata": {
    "collapsed": true
   },
   "outputs": [],
   "source": [
    "model.summary()"
   ]
  },
  {
   "cell_type": "code",
   "execution_count": null,
   "metadata": {
    "collapsed": true
   },
   "outputs": [],
   "source": [
    "# complie the model using the defined loss and defined metric\n",
    "#fit it on the training data"
   ]
  },
  {
   "cell_type": "code",
   "execution_count": null,
   "metadata": {
    "collapsed": true
   },
   "outputs": [],
   "source": [
    "x_train = x_train.astype('float32') / 255\n",
    "x_test = x_test.astype('float32') / 255"
   ]
  },
  {
   "cell_type": "code",
   "execution_count": null,
   "metadata": {
    "collapsed": true
   },
   "outputs": [],
   "source": [
    "model.compile(loss= prior_info_loss,\n",
    "              optimizer=keras.optimizers.Adam(),\n",
    "              metrics= custom_F1)"
   ]
  },
  {
   "cell_type": "code",
   "execution_count": null,
   "metadata": {
    "collapsed": true
   },
   "outputs": [],
   "source": [
    "history = model.fit(x_train, y_train,\n",
    "                    batch_size=64,\n",
    "                    epochs=5,\n",
    "                    validation_split=0.2)"
   ]
  },
  {
   "cell_type": "code",
   "execution_count": null,
   "metadata": {
    "collapsed": true
   },
   "outputs": [],
   "source": [
    "test_scores = model.evaluate(x_test, y_test, verbose=0)\n",
    "print('Test loss:', test_scores[0])\n",
    "print('Test F1_score:', test_scores[1])"
   ]
  },
  {
   "cell_type": "code",
   "execution_count": null,
   "metadata": {
    "collapsed": true
   },
   "outputs": [],
   "source": [
    "model.save('shape_prior_model.h5')"
   ]
  }
 ],
 "metadata": {
  "kernelspec": {
   "display_name": "Python 3",
   "language": "python",
   "name": "python3"
  },
  "language_info": {
   "codemirror_mode": {
    "name": "ipython",
    "version": 3
   },
   "file_extension": ".py",
   "mimetype": "text/x-python",
   "name": "python",
   "nbconvert_exporter": "python",
   "pygments_lexer": "ipython3",
   "version": "3.6.3"
  }
 },
 "nbformat": 4,
 "nbformat_minor": 2
}
