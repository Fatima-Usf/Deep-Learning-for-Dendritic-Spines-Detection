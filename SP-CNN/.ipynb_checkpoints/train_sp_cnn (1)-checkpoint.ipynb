{
 "cells": [
  {
   "cell_type": "code",
   "execution_count": 0,
   "metadata": {
    "colab": {
     "base_uri": "https://localhost:8080/",
     "height": 122
    },
    "colab_type": "code",
    "id": "rFgx1WItDZhP",
    "outputId": "e0650551-da38-4096-a2db-5c76088b2ce3"
   },
   "outputs": [
    {
     "name": "stdout",
     "output_type": "stream",
     "text": [
      "Go to this URL in a browser: https://accounts.google.com/o/oauth2/auth?client_id=947318989803-6bn6qk8qdgf4n4g3pfee6491hc0brc4i.apps.googleusercontent.com&redirect_uri=urn%3Aietf%3Awg%3Aoauth%3A2.0%3Aoob&scope=email%20https%3A%2F%2Fwww.googleapis.com%2Fauth%2Fdocs.test%20https%3A%2F%2Fwww.googleapis.com%2Fauth%2Fdrive%20https%3A%2F%2Fwww.googleapis.com%2Fauth%2Fdrive.photos.readonly%20https%3A%2F%2Fwww.googleapis.com%2Fauth%2Fpeopleapi.readonly&response_type=code\n",
      "\n",
      "Enter your authorization code:\n",
      "··········\n",
      "Mounted at /content/drive/\n"
     ]
    }
   ],
   "source": [
    "from google.colab import drive\n",
    "drive.mount('/content/drive/')"
   ]
  },
  {
   "cell_type": "code",
   "execution_count": null,
   "metadata": {
    "colab": {
     "base_uri": "https://localhost:8080/",
     "height": 887
    },
    "colab_type": "code",
    "id": "Aams1aACEgeF",
    "outputId": "f27889b2-05b8-46b0-81ba-f6ef8407d8a9"
   },
   "outputs": [],
   "source": [
    "!pwd\n",
    "%cd /content/drive/My Drive/\n",
    "!pwd\n",
    "!ls"
   ]
  },
  {
   "cell_type": "markdown",
   "metadata": {
    "colab_type": "text",
    "id": "6h-68WsRDNK4"
   },
   "source": [
    "## Importing packages"
   ]
  },
  {
   "cell_type": "code",
   "execution_count": 0,
   "metadata": {
    "colab": {},
    "colab_type": "code",
    "id": "2LCIvNpNDNK6"
   },
   "outputs": [],
   "source": [
    "import tensorflow as tf\n",
    "from tensorflow import keras \n",
    "from tensorflow.keras import layers\n",
    "import keras.backend as K\n",
    "import cv2\n",
    "import matplotlib.pyplot as plt\n",
    "import pandas as pd\n",
    "import numpy as np\n",
    "import sys\n",
    "%matplotlib inline\n",
    "tf.keras.backend.clear_session()"
   ]
  },
  {
   "cell_type": "markdown",
   "metadata": {
    "colab_type": "text",
    "id": "2TigK0e9DNLD"
   },
   "source": [
    "## Loading data"
   ]
  },
  {
   "cell_type": "code",
   "execution_count": 0,
   "metadata": {
    "colab": {},
    "colab_type": "code",
    "id": "NqJWCt67DNLE",
    "scrolled": false
   },
   "outputs": [],
   "source": [
    "def load_data(input_shape):\n",
    "    input_dim = input_shape\n",
    "    train_labels = pd.read_csv(\"train_labels.csv\")\n",
    "    test_labels = pd.read_csv(\"test_labels.csv\")\n",
    "    x_train, y_train, x_test, y_test = [], [], [], []\n",
    "    # max = 244 and min = 128\n",
    "    #x_center = xmin + 7\n",
    "    previous_name = \"\"\n",
    "    y_temp = np.zeros((1, 1))\n",
    "\n",
    "    for index, row in train_labels.iterrows():\n",
    "        current_name = row[\"filename\"]\n",
    "        x_center, y_center = (row[\"xmin\"] + 7)/row[\"width\"], (row[\"ymin\"] + 7)/row[\"height\"]\n",
    "        x_center, y_center =  int(input_dim[0]* x_center),  int(input_dim[0]* y_center)\n",
    "        sys.stdout.write('\\r'+'idx_train=' + str(index))\n",
    "        if current_name is not previous_name:\n",
    "        \n",
    "            if y_temp.shape[0] == input_dim[0]:\n",
    "                y_train.append(y_temp)\n",
    "            y_temp = np.zeros(input_dim)    \n",
    "            img =cv2.resize(cv2.imread(\"train/\"+current_name, 0),input_dim[:2])\n",
    "            img = np.expand_dims(img, axis = -1)\n",
    "            x_train.append(img)\n",
    "            previous_name = current_name\n",
    "        \n",
    "        y_temp[y_center - 3: y_center +3 , x_center - 3: x_center +3, :] = 1\n",
    "    y_train.append(y_temp)\n",
    "    x_train = np.array(x_train)\n",
    "    y_train = np.array(y_train)\n",
    "    \n",
    "    previous_name = \"\"\n",
    "    y_temp = np.zeros((1, 1))\n",
    "\n",
    "    for index, row in test_labels.iterrows():\n",
    "        current_name = row[\"filename\"]\n",
    "        x_center, y_center = (row[\"xmin\"] + 7)/row[\"width\"], (row[\"ymin\"] + 7)/row[\"height\"]\n",
    "        x_center, y_center =  int(input_dim[0]* x_center),  int(input_dim[0]* y_center)\n",
    "        sys.stdout.write('\\r'+'idx_test=' + str(index))\n",
    "        if current_name is not previous_name:\n",
    "        \n",
    "            if y_temp.shape[0] == input_dim[0]:\n",
    "                y_test.append(y_temp)\n",
    "            y_temp = np.zeros(input_dim)    \n",
    "            img =  cv2.resize(cv2.imread(\"test/\"+current_name, 0), input_dim[:2])\n",
    "            img = np.expand_dims(img, axis = -1)\n",
    "            x_test.append(img)\n",
    "            previous_name = current_name\n",
    "        \n",
    "        y_temp[y_center - 3: y_center +3 , x_center - 3: x_center +3, :] = 1\n",
    "    y_test.append(y_temp)\n",
    "    x_test = np.array(x_test)\n",
    "    y_test = np.array(y_test)\n",
    "    assert(x_train.shape == (1653, input_dim[0],input_dim[1], input_dim[2]))\n",
    "    assert(x_test.shape == (183, input_dim[0],input_dim[1], input_dim[2] ))\n",
    "    assert(y_train.shape == (1653, input_dim[0],input_dim[1], input_dim[2] ))\n",
    "    assert(y_test.shape == (183, input_dim[0],input_dim[1], input_dim[2] ))\n",
    "    print(\"\\nx_train shape: \", x_train.shape)\n",
    "    print(\"y_train shape: \", y_train.shape)\n",
    "    print(\"x_test shape: \", x_test.shape)\n",
    "    print(\"y_test shape: \", y_test.shape)\n",
    "\n",
    "    return x_train, y_train, x_test, y_test\n",
    "\n",
    "\n"
   ]
  },
  {
   "cell_type": "code",
   "execution_count": null,
   "metadata": {
    "colab": {
     "base_uri": "https://localhost:8080/",
     "height": 375
    },
    "colab_type": "code",
    "id": "8Z1aj_ZPDNLH",
    "outputId": "44c2d2ed-5cbf-4898-98ca-28ff93d12a7b"
   },
   "outputs": [],
   "source": [
    "x_train, y_train, x_test, y_test = load_data(input_shape = (256, 256, 1))"
   ]
  },
  {
   "cell_type": "markdown",
   "metadata": {
    "colab_type": "text",
    "id": "w-g026c2DNLL"
   },
   "source": [
    "## finding Best parameters for Canny edge detector"
   ]
  },
  {
   "cell_type": "code",
   "execution_count": 0,
   "metadata": {
    "colab": {
     "base_uri": "https://localhost:8080/",
     "height": 318
    },
    "colab_type": "code",
    "id": "neXLP-Q_DNLM",
    "outputId": "66f3c267-5627-4352-b0a0-98c9fd9dd7d0"
   },
   "outputs": [
    {
     "data": {
      "image/png": "[encoded data removed]",
      "text/plain": [
       "<Figure size 720x1440 with 2 Axes>"
      ]
     },
     "metadata": {
      "tags": []
     },
     "output_type": "display_data"
    }
   ],
   "source": [
    "img = x_train[2, :, :,0]\n",
    "label_train = y_train[2 , :, :, 0]\n",
    "img_filtered =cv2.bilateralFilter(img, 11, 150, 150)\n",
    "threshholds = list(range(0, 251, 5))\n",
    "\n",
    "plt.figure(figsize= (10, 20))\n",
    "plt.subplot(121)\n",
    "plt.imshow(img,cmap = 'gray')\n",
    "plt.title('Original Image')\n",
    "plt.subplot(122)\n",
    "imgplot2 = plt.imshow(label_train, cmap='gray')\n",
    "plt.title('Ground truth dendritic spines')\n",
    "plt.show()\n",
    "\n",
    "edges_2 = cv2.Canny(img_filtered, 10, 25, L2gradient = True)\n",
    "row = 0\n",
    "col = 0\n",
    "s = 1\n",
    "title = \"\"\n",
    "i = 0\n",
    "while i < len(threshholds) - 1:\n",
    "    j = i + 1\n",
    "    while j < len(threshholds):\n",
    "        if col == 0 and row != 3:\n",
    "            edges_1 = cv2.Canny(img_filtered,threshholds[i] ,threshholds[j], L2gradient = True)\n",
    "            col = col + 1\n",
    "            title = title + \" | \" + str(threshholds[i]) + \" \" + str(threshholds[j])\n",
    "            j = j + 1\n",
    "            continue\n",
    "        \n",
    "        elif col < 5 and row != 3:\n",
    "            edges_row = cv2.hconcat((edges_1, cv2.Canny(img_filtered,threshholds[i] ,threshholds[j], L2gradient = True)))\n",
    "            edges_1 = edges_row\n",
    "            col = col + 1\n",
    "            title = title + \" | \" + str(threshholds[i]) + \" \" + str(threshholds[j])\n",
    "            j = j + 1\n",
    "            continue\n",
    "        col = 0\n",
    "        if row ==0:\n",
    "            edges_row1 = edges_row\n",
    "            edges_1 = cv2.Canny(img_filtered,threshholds[i] ,threshholds[j], L2gradient = True)\n",
    "            col = col + 1\n",
    "            row = row + 1\n",
    "            title = title + \" | \" + str(threshholds[i]) + \" \" + str(threshholds[j])\n",
    "            j = j + 1\n",
    "            continue\n",
    "        elif row < 3:\n",
    "            result = cv2.vconcat((edges_row1, edges_row))\n",
    "            edges_row1 = result\n",
    "            row = row + 1\n",
    "            continue\n",
    "        col = 0\n",
    "        row = 0 \n",
    "        cv2.namedWindow(str(s) + \" from 85 \"+title)        \n",
    "        cv2.moveWindow(str(s) + \" from 85 \"+title, 10,10)\n",
    "        cv2.imshow(str(s) + \" from 85 \"+title,result)\n",
    "        cv2.waitKey(0)\n",
    "        cv2.destroyAllWindows()\n",
    "        s = s +1\n",
    "        title = \"\"\n",
    "    i = i + 1\n",
    "if title != \"\":\n",
    "    cv2.namedWindow(str(s) + \" from 85 \"+title)        \n",
    "    cv2.moveWindow(str(s) + \" from 85 \"+title, 35,20)\n",
    "    cv2.imshow(str(s) + \" from 85 \"+title,cv2.vconcat((edges_row1, edges_row)))\n",
    "    cv2.waitKey(0)\n",
    "    cv2.destroyAllWindows()"
   ]
  },
  {
   "cell_type": "markdown",
   "metadata": {
    "colab_type": "text",
    "id": "oFxVsVk_DNLQ"
   },
   "source": [
    "## Creating edges dataset using min and max thresholds = (15, 30)"
   ]
  },
  {
   "cell_type": "code",
   "execution_count": 0,
   "metadata": {
    "colab": {},
    "colab_type": "code",
    "id": "LkOhYealDNLR"
   },
   "outputs": [],
   "source": [
    "def generate_edges_dataset(x_train, minthresh = 15, maxthresh = 30):\n",
    "    \n",
    "    x_train_edges = []\n",
    "    for i in range(x_train.shape[0]):\n",
    "        img = x_train[i, :, :, 0]\n",
    "        img_filtered = cv2.bilateralFilter(img, 11, 150, 150)\n",
    "        img_edges = cv2.Canny(img_filtered, minthresh, maxthresh, L2gradient = True)\n",
    "        img_edges = np.expand_dims(img_edges, axis = -1)\n",
    "        x_train_edges.append(img_edges)\n",
    "    x_train_edges = np.array(x_train_edges)\n",
    "    assert(x_train_edges.shape == x_train.shape)\n",
    "    print(\"x_train_edges shape: \", x_train_edges.shape)\n",
    "    \n",
    "    return x_train_edges"
   ]
  },
  {
   "cell_type": "code",
   "execution_count": 0,
   "metadata": {
    "colab": {
     "base_uri": "https://localhost:8080/",
     "height": 34
    },
    "colab_type": "code",
    "id": "U4RLqdjKDNLU",
    "outputId": "f3302d6c-cce0-43cd-89b8-3d770a151a21"
   },
   "outputs": [
    {
     "name": "stdout",
     "output_type": "stream",
     "text": [
      "x_train_edges shape:  (1653, 256, 256, 1)\n"
     ]
    }
   ],
   "source": [
    "x_train_edges = generate_edges_dataset(x_train)"
   ]
  },
  {
   "cell_type": "code",
   "execution_count": 0,
   "metadata": {
    "colab": {
     "base_uri": "https://localhost:8080/",
     "height": 310
    },
    "colab_type": "code",
    "id": "yCT9KdIwDNLY",
    "outputId": "11817f34-cb91-4fd0-f208-503842be7b77"
   },
   "outputs": [
    {
     "data": {
      "image/png": "[encoded data removed]",
      "text/plain": [
       "<Figure size 1080x5760 with 3 Axes>"
      ]
     },
     "metadata": {
      "tags": []
     },
     "output_type": "display_data"
    }
   ],
   "source": [
    "img1 = x_train_edges[15, :, :,0]\n",
    "img2 = x_train_edges[16, :, :,0]\n",
    "img3 = x_train_edges[17, :, :,0]\n",
    "plt.figure(figsize= (15, 80))\n",
    "\n",
    "plt.subplot(131)\n",
    "plt.imshow(img1,cmap = 'gray')\n",
    "plt.title('img1')\n",
    "\n",
    "plt.subplot(132)\n",
    "plt.imshow(img2,cmap = 'gray')\n",
    "plt.title('img2')\n",
    "\n",
    "plt.subplot(133)\n",
    "plt.imshow(img3,cmap = 'gray')\n",
    "plt.title('img3')\n",
    "\n",
    "plt.show()"
   ]
  },
  {
   "cell_type": "markdown",
   "metadata": {
    "colab_type": "text",
    "id": "x8tr1417DNLc"
   },
   "source": [
    "## Loading shapes"
   ]
  },
  {
   "cell_type": "code",
   "execution_count": 0,
   "metadata": {
    "colab": {},
    "colab_type": "code",
    "id": "w1yGgGcmDNLd"
   },
   "outputs": [],
   "source": [
    "def load_shapes(input_dim, verbose = 0):\n",
    "    input_dim = input_dim\n",
    "    shapes = []\n",
    "    for i in range(1, 11):\n",
    "        img = \"shape\"+str(i)+\".JPG\"\n",
    "        image = cv2.resize(cv2.imread(img, 0), (19, 19))\n",
    "        if verbose is 1:\n",
    "            plt.figure()\n",
    "            plt.subplot(121)\n",
    "            plt.imshow(image,cmap = 'gray')\n",
    "        ret,img_thresh = cv2.threshold(image,35,255,cv2.THRESH_BINARY)        \n",
    "        if verbose is 1:\n",
    "            plt.subplot(122)\n",
    "            plt.imshow(img_thresh,cmap = 'gray')\n",
    "            plt.show() \n",
    "        img_thresh = np.expand_dims(img_thresh, -1)\n",
    "        shapes.append(img_thresh)\n",
    "    shapes = np.array(shapes)\n",
    "    print(\"shape_priors shape :\",shapes.shape)"
   ]
  },
  {
   "cell_type": "code",
   "execution_count": null,
   "metadata": {
    "colab": {
     "base_uri": "https://localhost:8080/",
     "height": 34
    },
    "colab_type": "code",
    "id": "f3KaU2gEDNLg",
    "outputId": "1c3ff712-1d31-4b5b-bbea-8e6dfc298c16"
   },
   "outputs": [],
   "source": [
    "shape_priors = load_shapes((19, 19, 1))"
   ]
  },
  {
   "cell_type": "markdown",
   "metadata": {
    "colab_type": "text",
    "id": "jZ5dPjfODNLk"
   },
   "source": [
    "## Building the CNN model "
   ]
  },
  {
   "cell_type": "code",
   "execution_count": 0,
   "metadata": {
    "colab": {
     "base_uri": "https://localhost:8080/",
     "height": 445
    },
    "colab_type": "code",
    "id": "icP1ID32DNLl",
    "outputId": "0b291f08-16af-4884-8b32-d3fe728c1542"
   },
   "outputs": [
    {
     "name": "stdout",
     "output_type": "stream",
     "text": [
      "WARNING:tensorflow:From /usr/local/lib/python3.6/dist-packages/tensorflow/python/ops/resource_variable_ops.py:435: colocate_with (from tensorflow.python.framework.ops) is deprecated and will be removed in a future version.\n",
      "Instructions for updating:\n",
      "Colocations handled automatically by placer.\n",
      "_________________________________________________________________\n",
      "Layer (type)                 Output Shape              Param #   \n",
      "=================================================================\n",
      "input_1 (InputLayer)         (None, 256, 256, 1)       0         \n",
      "_________________________________________________________________\n",
      "conv2d (Conv2D)              (None, 256, 256, 64)      1664      \n",
      "_________________________________________________________________\n",
      "conv2d_1 (Conv2D)            (None, 256, 256, 64)      36928     \n",
      "_________________________________________________________________\n",
      "conv2d_2 (Conv2D)            (None, 256, 256, 64)      36928     \n",
      "_________________________________________________________________\n",
      "conv2d_3 (Conv2D)            (None, 256, 256, 64)      36928     \n",
      "_________________________________________________________________\n",
      "conv2d_4 (Conv2D)            (None, 256, 256, 64)      36928     \n",
      "_________________________________________________________________\n",
      "conv2d_5 (Conv2D)            (None, 256, 256, 1)       577       \n",
      "=================================================================\n",
      "Total params: 149,953\n",
      "Trainable params: 149,953\n",
      "Non-trainable params: 0\n",
      "_________________________________________________________________\n"
     ]
    }
   ],
   "source": [
    "img_inputs = keras.Input(shape=(256, 256, 1))\n",
    "x = layers.Conv2D(64, (5, 5),padding = 'same', activation='relu')(img_inputs)\n",
    "x = layers.Conv2D(64, (3, 3),padding = 'same', activation='relu')(x)\n",
    "x = layers.Conv2D(64, (3, 3),padding = 'same', activation='relu')(x)\n",
    "x = layers.Conv2D(64, (3, 3),padding = 'same', activation='relu')(x)\n",
    "x = layers.Conv2D(64, (3, 3),padding = 'same', activation='relu')(x)\n",
    "y_hat = layers.Conv2D(1, (3, 3),padding = 'same')(x)\n",
    "\n",
    "model = keras.Model(inputs=img_inputs, outputs=y_hat)\n",
    "\n",
    "model.summary()"
   ]
  },
  {
   "cell_type": "markdown",
   "metadata": {
    "colab_type": "text",
    "id": "-PiCKOx6DNLq"
   },
   "source": [
    "## Defining the shape_prior custom loss function"
   ]
  },
  {
   "cell_type": "code",
   "execution_count": 0,
   "metadata": {
    "colab": {},
    "colab_type": "code",
    "id": "WVWc3-V5DNLs"
   },
   "outputs": [],
   "source": [
    "def prior_info_loss(x_hat, y, y_hat, alpha, S_shapes):\n",
    "    # TODO: implement the regulizer\n",
    "    # use the edges and S as global variable. find the final sum SUM and substract it from the the below loss\n",
    "    # to find sum apply on y_pred: threshold, windowmax, guassian filter\n",
    "        #1 - Y_hat need to be threshholde 0.2 and then max_pooled with g() fct with stide 1 and padding 'same'\n",
    "    def g_p(y_hat):\n",
    "      #K.layers.MaxPooling2D(pool_size=(2, 2), strides='1', padding='same', data_format=None)\n",
    "      return y_hat\n",
    "\n",
    "    r_y_hat = g_p(y_hat)\n",
    "    r_y_hat = r_y_hat[0 if element < 0.2 for element in r_y_hat else 1]\n",
    "\n",
    "    #Element_wise product edge*y_hat\n",
    "    ele_wise = np.multiply(x_hat, y_hat)         \n",
    "\n",
    "    #2 - Convolve the product  with S shapes\n",
    "    #scipy.signal.convolve2d(in1, in2, mode='full', boundary='fill', fillvalue=0)\n",
    "    \n",
    "    for S_edge in shape_priors:\n",
    "      ele_wise = convolve2d(ele_wise, scharr, boundary='symm', mode='same')\n",
    "\n",
    "    R = np.sum(ele_wise, dtype=np.int32)\n",
    "    \n",
    "    #3 - return MSE - R\n",
    "    return (K.losses.mean_squared_error(y_hat, y) - alpha*R)\n",
    "    \n",
    "    #return K.mean(K.square(y_pred - y_true), axis=-1))"
   ]
  },
  {
   "cell_type": "code",
   "execution_count": 0,
   "metadata": {
    "colab": {},
    "colab_type": "code",
    "id": "m3ZpbmUpDNLv"
   },
   "outputs": [],
   "source": [
    "# TODO: custom metric F1 score\n",
    "def f1(y_true, y_pred):\n",
    "    def recall(y_true, y_pred):\n",
    "\n",
    "        true_positives = K.sum(K.round(K.clip(y_true * y_pred, 0, 1)))\n",
    "        possible_positives = K.sum(K.round(K.clip(y_true, 0, 1)))\n",
    "        recall = true_positives / (possible_positives + K.epsilon())\n",
    "        return recall\n",
    "\n",
    "    def precision(y_true, y_pred):\n",
    "\n",
    "        true_positives = K.sum(K.round(K.clip(y_true * y_pred, 0, 1)))\n",
    "        predicted_positives = K.sum(K.round(K.clip(y_pred, 0, 1)))\n",
    "        precision = true_positives / (predicted_positives + K.epsilon())\n",
    "        return precision\n",
    "    \n",
    "    precision = precision(y_true, y_pred)\n",
    "    \n",
    "    recall = recall(y_true, y_pred)\n",
    "    return 2*((precision*recall)/(precision+recall+K.epsilon()))"
   ]
  },
  {
   "cell_type": "code",
   "execution_count": 0,
   "metadata": {
    "colab": {},
    "colab_type": "code",
    "id": "2U5nFbjVDNLz"
   },
   "outputs": [],
   "source": [
    "x_train = x_train.astype('float32') / 255\n",
    "x_test = x_test.astype('float32') / 255"
   ]
  },
  {
   "cell_type": "code",
   "execution_count": 0,
   "metadata": {
    "colab": {
     "base_uri": "https://localhost:8080/",
     "height": 88
    },
    "colab_type": "code",
    "id": "SQGMzrHpDNL5",
    "outputId": "9a3133e2-4c54-4991-820c-60509a96fff8"
   },
   "outputs": [
    {
     "name": "stdout",
     "output_type": "stream",
     "text": [
      "WARNING:tensorflow:From /usr/local/lib/python3.6/dist-packages/tensorflow/python/keras/utils/losses_utils.py:170: to_float (from tensorflow.python.ops.math_ops) is deprecated and will be removed in a future version.\n",
      "Instructions for updating:\n",
      "Use tf.cast instead.\n"
     ]
    }
   ],
   "source": [
    "model.compile(loss= 'mean_squared_error',\n",
    "              optimizer=keras.optimizers.Adam(),\n",
    "              metrics= [\"accuracy\"])"
   ]
  },
  {
   "cell_type": "code",
   "execution_count": 0,
   "metadata": {
    "colab": {
     "base_uri": "https://localhost:8080/",
     "height": 1805
    },
    "colab_type": "code",
    "id": "-HQUz0c4DNL9",
    "outputId": "9369e0f7-1918-4cae-d1bd-4af0a3afe7ec"
   },
   "outputs": [
    {
     "name": "stdout",
     "output_type": "stream",
     "text": [
      "Train on 1322 samples, validate on 331 samples\n",
      "WARNING:tensorflow:From /usr/local/lib/python3.6/dist-packages/tensorflow/python/ops/math_ops.py:3066: to_int32 (from tensorflow.python.ops.math_ops) is deprecated and will be removed in a future version.\n",
      "Instructions for updating:\n",
      "Use tf.cast instead.\n",
      "Epoch 1/50\n",
      "1322/1322 [==============================] - 28s 21ms/sample - loss: 0.1772 - acc: 0.9893 - val_loss: 0.0022 - val_acc: 0.9979\n",
      "Epoch 2/50\n",
      "1322/1322 [==============================] - 26s 19ms/sample - loss: 0.0021 - acc: 0.9979 - val_loss: 0.0021 - val_acc: 0.9979\n",
      "Epoch 3/50\n",
      "1322/1322 [==============================] - 26s 20ms/sample - loss: 0.0020 - acc: 0.9979 - val_loss: 0.0021 - val_acc: 0.9979\n",
      "Epoch 4/50\n",
      "1322/1322 [==============================] - 26s 20ms/sample - loss: 0.0020 - acc: 0.9979 - val_loss: 0.0020 - val_acc: 0.9979\n",
      "Epoch 5/50\n",
      "1322/1322 [==============================] - 26s 20ms/sample - loss: 0.0020 - acc: 0.9979 - val_loss: 0.0022 - val_acc: 0.9979\n",
      "Epoch 6/50\n",
      "1322/1322 [==============================] - 26s 20ms/sample - loss: 0.0020 - acc: 0.9979 - val_loss: 0.0021 - val_acc: 0.9979\n",
      "Epoch 7/50\n",
      "1322/1322 [==============================] - 26s 20ms/sample - loss: 0.0020 - acc: 0.9979 - val_loss: 0.0020 - val_acc: 0.9979\n",
      "Epoch 8/50\n",
      "1322/1322 [==============================] - 26s 20ms/sample - loss: 0.0023 - acc: 0.9979 - val_loss: 0.0021 - val_acc: 0.9979\n",
      "Epoch 9/50\n",
      "1322/1322 [==============================] - 26s 20ms/sample - loss: 0.0020 - acc: 0.9979 - val_loss: 0.0021 - val_acc: 0.9979\n",
      "Epoch 10/50\n",
      "1322/1322 [==============================] - 26s 20ms/sample - loss: 0.0020 - acc: 0.9979 - val_loss: 0.0020 - val_acc: 0.9979\n",
      "Epoch 11/50\n",
      "1322/1322 [==============================] - 26s 20ms/sample - loss: 0.0020 - acc: 0.9979 - val_loss: 0.0020 - val_acc: 0.9979\n",
      "Epoch 12/50\n",
      "1322/1322 [==============================] - 26s 20ms/sample - loss: 0.0020 - acc: 0.9979 - val_loss: 0.0020 - val_acc: 0.9979\n",
      "Epoch 13/50\n",
      "1322/1322 [==============================] - 26s 20ms/sample - loss: 0.0020 - acc: 0.9979 - val_loss: 0.0020 - val_acc: 0.9979\n",
      "Epoch 14/50\n",
      "1322/1322 [==============================] - 26s 20ms/sample - loss: 0.0020 - acc: 0.9979 - val_loss: 0.0020 - val_acc: 0.9979\n",
      "Epoch 15/50\n",
      "1322/1322 [==============================] - 26s 20ms/sample - loss: 0.0019 - acc: 0.9979 - val_loss: 0.0020 - val_acc: 0.9979\n",
      "Epoch 16/50\n",
      "1322/1322 [==============================] - 26s 20ms/sample - loss: 0.0020 - acc: 0.9979 - val_loss: 0.0021 - val_acc: 0.9979\n",
      "Epoch 17/50\n",
      "1322/1322 [==============================] - 26s 20ms/sample - loss: 0.0020 - acc: 0.9979 - val_loss: 0.0019 - val_acc: 0.9979\n",
      "Epoch 18/50\n",
      "1322/1322 [==============================] - 26s 20ms/sample - loss: 0.0019 - acc: 0.9979 - val_loss: 0.0019 - val_acc: 0.9979\n",
      "Epoch 19/50\n",
      "1322/1322 [==============================] - 26s 20ms/sample - loss: 0.0020 - acc: 0.9979 - val_loss: 0.0019 - val_acc: 0.9979\n",
      "Epoch 20/50\n",
      "1322/1322 [==============================] - 26s 20ms/sample - loss: 0.0019 - acc: 0.9979 - val_loss: 0.0019 - val_acc: 0.9979\n",
      "Epoch 21/50\n",
      "1322/1322 [==============================] - 26s 20ms/sample - loss: 0.0019 - acc: 0.9979 - val_loss: 0.0019 - val_acc: 0.9979\n",
      "Epoch 22/50\n",
      "1322/1322 [==============================] - 26s 20ms/sample - loss: 0.0019 - acc: 0.9979 - val_loss: 0.0020 - val_acc: 0.9979\n",
      "Epoch 23/50\n",
      "1322/1322 [==============================] - 26s 20ms/sample - loss: 0.0019 - acc: 0.9979 - val_loss: 0.0019 - val_acc: 0.9979\n",
      "Epoch 24/50\n",
      "1322/1322 [==============================] - 26s 20ms/sample - loss: 0.0019 - acc: 0.9979 - val_loss: 0.0019 - val_acc: 0.9979\n",
      "Epoch 25/50\n",
      "1322/1322 [==============================] - 26s 20ms/sample - loss: 0.0019 - acc: 0.9980 - val_loss: 0.0019 - val_acc: 0.9979\n",
      "Epoch 26/50\n",
      "1322/1322 [==============================] - 26s 20ms/sample - loss: 0.0019 - acc: 0.9980 - val_loss: 0.0019 - val_acc: 0.9979\n",
      "Epoch 27/50\n",
      "1322/1322 [==============================] - 26s 20ms/sample - loss: 0.0018 - acc: 0.9980 - val_loss: 0.0018 - val_acc: 0.9980\n",
      "Epoch 28/50\n",
      "1322/1322 [==============================] - 26s 20ms/sample - loss: 0.0018 - acc: 0.9980 - val_loss: 0.0019 - val_acc: 0.9979\n",
      "Epoch 29/50\n",
      "1322/1322 [==============================] - 26s 20ms/sample - loss: 0.0018 - acc: 0.9980 - val_loss: 0.0018 - val_acc: 0.9980\n",
      "Epoch 30/50\n",
      "1322/1322 [==============================] - 26s 20ms/sample - loss: 0.0018 - acc: 0.9980 - val_loss: 0.0018 - val_acc: 0.9980\n",
      "Epoch 31/50\n",
      "1322/1322 [==============================] - 26s 20ms/sample - loss: 0.0018 - acc: 0.9980 - val_loss: 0.0018 - val_acc: 0.9980\n",
      "Epoch 32/50\n",
      "1322/1322 [==============================] - 26s 20ms/sample - loss: 0.0018 - acc: 0.9980 - val_loss: 0.0018 - val_acc: 0.9979\n",
      "Epoch 33/50\n",
      "1322/1322 [==============================] - 26s 20ms/sample - loss: 0.0018 - acc: 0.9980 - val_loss: 0.0018 - val_acc: 0.9980\n",
      "Epoch 34/50\n",
      "1322/1322 [==============================] - 26s 20ms/sample - loss: 0.0018 - acc: 0.9980 - val_loss: 0.0018 - val_acc: 0.9980\n",
      "Epoch 35/50\n",
      "1322/1322 [==============================] - 26s 20ms/sample - loss: 0.0018 - acc: 0.9980 - val_loss: 0.0018 - val_acc: 0.9980\n",
      "Epoch 36/50\n",
      "1322/1322 [==============================] - 26s 20ms/sample - loss: 0.0018 - acc: 0.9980 - val_loss: 0.0018 - val_acc: 0.9980\n",
      "Epoch 37/50\n",
      "1322/1322 [==============================] - 26s 19ms/sample - loss: 0.0018 - acc: 0.9980 - val_loss: 0.0018 - val_acc: 0.9980\n",
      "Epoch 38/50\n",
      "1322/1322 [==============================] - 26s 20ms/sample - loss: 0.0017 - acc: 0.9980 - val_loss: 0.0017 - val_acc: 0.9980\n",
      "Epoch 39/50\n",
      "1322/1322 [==============================] - 26s 19ms/sample - loss: 0.0017 - acc: 0.9980 - val_loss: 0.0017 - val_acc: 0.9980\n",
      "Epoch 40/50\n",
      "1322/1322 [==============================] - 26s 19ms/sample - loss: 0.0017 - acc: 0.9980 - val_loss: 0.0017 - val_acc: 0.9980\n",
      "Epoch 41/50\n",
      "1322/1322 [==============================] - 26s 20ms/sample - loss: 0.0017 - acc: 0.9980 - val_loss: 0.0017 - val_acc: 0.9980\n",
      "Epoch 42/50\n",
      "1322/1322 [==============================] - 26s 19ms/sample - loss: 0.0017 - acc: 0.9980 - val_loss: 0.0017 - val_acc: 0.9980\n",
      "Epoch 43/50\n",
      "1322/1322 [==============================] - 26s 19ms/sample - loss: 0.0017 - acc: 0.9980 - val_loss: 0.0017 - val_acc: 0.9980\n",
      "Epoch 44/50\n",
      "1322/1322 [==============================] - 26s 19ms/sample - loss: 0.0017 - acc: 0.9980 - val_loss: 0.0017 - val_acc: 0.9980\n",
      "Epoch 45/50\n",
      "1322/1322 [==============================] - 26s 19ms/sample - loss: 0.0017 - acc: 0.9980 - val_loss: 0.0017 - val_acc: 0.9980\n",
      "Epoch 46/50\n",
      "1322/1322 [==============================] - 26s 19ms/sample - loss: 0.0017 - acc: 0.9980 - val_loss: 0.0017 - val_acc: 0.9980\n",
      "Epoch 47/50\n",
      "1322/1322 [==============================] - 26s 19ms/sample - loss: 0.0017 - acc: 0.9980 - val_loss: 0.0017 - val_acc: 0.9980\n",
      "Epoch 48/50\n",
      "1322/1322 [==============================] - 26s 19ms/sample - loss: 0.0017 - acc: 0.9980 - val_loss: 0.0017 - val_acc: 0.9980\n",
      "Epoch 49/50\n",
      "1322/1322 [==============================] - 26s 19ms/sample - loss: 0.0017 - acc: 0.9980 - val_loss: 0.0016 - val_acc: 0.9981\n",
      "Epoch 50/50\n",
      "1322/1322 [==============================] - 26s 19ms/sample - loss: 0.0017 - acc: 0.9980 - val_loss: 0.0017 - val_acc: 0.9980\n"
     ]
    }
   ],
   "source": [
    "history = model.fit(x_train, y_train,\n",
    "                    batch_size=8,\n",
    "                    epochs=50,\n",
    "                    validation_split=0.2)"
   ]
  },
  {
   "cell_type": "code",
   "execution_count": null,
   "metadata": {
    "colab": {
     "base_uri": "https://localhost:8080/",
     "height": 197
    },
    "colab_type": "code",
    "id": "rbbnvccHDNMD",
    "outputId": "286845f1-bf9f-4548-8d3c-754b662a4369"
   },
   "outputs": [],
   "source": [
    "test_scores = model.evaluate(x_test, y_test, verbose=0)\n",
    "print('Test loss:', test_scores[0])\n",
    "print('Test F1_score:', test_scores[1])"
   ]
  },
  {
   "cell_type": "code",
   "execution_count": 0,
   "metadata": {
    "colab": {
     "base_uri": "https://localhost:8080/",
     "height": 34
    },
    "colab_type": "code",
    "id": "vWLubhjfV_gk",
    "outputId": "dff7b134-a90a-467c-9801-3f9fa1b8f3d6"
   },
   "outputs": [
    {
     "name": "stdout",
     "output_type": "stream",
     "text": [
      "(183, 256, 256, 1)\n"
     ]
    }
   ],
   "source": [
    "y_pred = model.predict(x_test)\n",
    "print(y_pred.shape)"
   ]
  },
  {
   "cell_type": "code",
   "execution_count": 0,
   "metadata": {
    "colab": {
     "base_uri": "https://localhost:8080/",
     "height": 352
    },
    "colab_type": "code",
    "id": "dHMRh3xuXMsG",
    "outputId": "8de2d1c5-dab2-4f0d-85a1-d0895d2db797"
   },
   "outputs": [
    {
     "data": {
      "image/png": "[encoded data removed]",
      "text/plain": [
       "<Figure size 720x1440 with 2 Axes>"
      ]
     },
     "metadata": {
      "tags": []
     },
     "output_type": "display_data"
    },
    {
     "name": "stdout",
     "output_type": "stream",
     "text": [
      "0.0\n",
      "1.1920929e-07\n"
     ]
    }
   ],
   "source": [
    "img = y_test[0, :, :,0]\n",
    "pred = y_pred[0 , :, :, 0]\n",
    "\n",
    "plt.figure(figsize= (10, 20))\n",
    "plt.subplot(121)\n",
    "plt.imshow(img,cmap = 'gray')\n",
    "plt.title('Original label')\n",
    "plt.subplot(122)\n",
    "imgplot2 = plt.imshow(pred, cmap='gray')\n",
    "plt.title('Ground truth dendritic spines')\n",
    "plt.show()\n",
    "\n",
    "print(np.min(pred[:]))\n",
    "print(np.max(pred[:]))"
   ]
  },
  {
   "cell_type": "code",
   "execution_count": 0,
   "metadata": {
    "colab": {},
    "colab_type": "code",
    "id": "R00exPQ1DNMK"
   },
   "outputs": [],
   "source": [
    "model.save('shape_prior_model.h5')"
   ]
  }
 ],
 "metadata": {
  "accelerator": "GPU",
  "colab": {
   "collapsed_sections": [],
   "name": "train_sp_cnn.ipynb",
   "provenance": [],
   "toc_visible": true,
   "version": "0.3.2"
  },
  "kernelspec": {
   "display_name": "Python 3",
   "language": "python",
   "name": "python3"
  },
  "language_info": {
   "codemirror_mode": {
    "name": "ipython",
    "version": 3
   },
   "file_extension": ".py",
   "mimetype": "text/x-python",
   "name": "python",
   "nbconvert_exporter": "python",
   "pygments_lexer": "ipython3",
   "version": "3.7.3"
  }
 },
 "nbformat": 4,
 "nbformat_minor": 1
}
